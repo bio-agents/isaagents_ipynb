{
 "cells": [
  {
   "cell_type": "markdown",
   "metadata": {},
   "source": [
    "# ISA API example using tab/json conversions "
   ]
  },
  {
   "cell_type": "markdown",
   "metadata": {},
   "source": [
    "This notebook aims to show how to use the ISA API for loading, editing, and writing ISA tabs using the ISA API. The aim of this is to: \n",
    "\n",
    "1. Convert an ISA tab into a ISA JSON document;\n",
    "2. Edit values in the JSON objects;\n",
    "3. Convert the edited ISA JSON document back into an ISA tab.\n",
    "\n",
    "This gives us a basic framework for editing ISA tab files programmatically."
   ]
  },
  {
   "cell_type": "markdown",
   "metadata": {},
   "source": [
    "The code snippets in this notebook use Python to import the `isatab2json` and the `json2isatab` converters. Each converter is used to load from tab into some JSON objects, and them dump back to tab the modified JSON objects of ISA content. \n",
    "\n",
    "The ISA API is documented in this [page](http://www.github.com/ISA-agents/isa-api/wiki)."
   ]
  },
  {
   "cell_type": "markdown",
   "metadata": {},
   "source": [
    "## Prerequisites\n",
    "\n",
    "There are some prerequisites to fulfill in order to successfully run the examples in this page."
   ]
  },
  {
   "cell_type": "markdown",
   "metadata": {},
   "source": [
    "Run the following code snippet to get some sample input data using the ISA API's Github storage adapter. The storage adapter gives us a range of utlity functions to get ISA content from the official data repositories."
   ]
  },
  {
   "cell_type": "code",
   "execution_count": 46,
   "metadata": {
    "collapsed": false
   },
   "outputs": [
    {
     "name": "stdout",
     "output_type": "stream",
     "text": [
      "a_metabolome.txt\n",
      "a_microarray.txt\n",
      "a_proteome.txt\n",
      "a_transcriptome.txt\n",
      "BII-I-1.json\n",
      "i_investigation.txt\n",
      "s_BII-S-1.txt\n",
      "s_BII-S-2.txt\n"
     ]
    }
   ],
   "source": [
    "from isaagents.io.storage_adapter import IsaGitHubStorageAdapter\n",
    "adapter = IsaGitHubStorageAdapter()\n",
    "adapter.retrieve('tests/data/BII-I-1', destination='out', owner='ISA-agents', repository='isa-api')\n",
    "import os\n",
    "for f in os.listdir('out/BII-I-1/'): print(f)  # print out what we downloaded"
   ]
  },
  {
   "cell_type": "markdown",
   "metadata": {},
   "source": [
    "## Step 1: isatab2json - Converting ISA tab to ISA JSON\n",
    "\n",
    "ISA tab files are a collection of comma separated variable files, typically loaded and edited in ISAcreator. \n",
    "\n",
    "First, let's see what's in the top of the investigation file."
   ]
  },
  {
   "cell_type": "code",
   "execution_count": 47,
   "metadata": {
    "collapsed": false
   },
   "outputs": [
    {
     "name": "stdout",
     "output_type": "stream",
     "text": [
      "ONTOLOGY SOURCE REFERENCE\n",
      "Term Source Name\t\"OBI\"\t\"BTO\"\t\"NEWT\"\t\"UO\"\t\"CHEBI\"\t\"PATO\"\t\"EFO\"\n",
      "Term Source File\t\"http://bioportal.bioontology.org/ontologies/1123\"\t\"ArrayExpress Experimental Factor Ontology\"\t\"\"\t\"\"\t\"\"\t\"\"\t\"\"\n",
      "Term Source Version\t\"47893\"\t\"v 1.26\"\t\"v 1.26\"\t\"v 1.26\"\t\"v 1.26\"\t\"v 1.26\"\t\"v 1.26\"\n",
      "Term Source Description\t\"Ontology for Biomedical Investigations\"\t\"BRENDA tissue / enzyme source\"\t\"NEWT UniProt Taxonomy Database\"\t\"Unit Ontology\"\t\"Chemical Entities of Biological Interest\"\t\"Phenotypic qualities (properties)\"\t\"ArrayExpress Experimental Factor Ontology\"\n",
      "INVESTIGATION\n",
      "Investigation Identifier\t\"BII-I-1\"\n",
      "Investigation Title\t\"Growth control of the eukaryote cell: a systems biology study in yeast\"\n",
      "\n"
     ]
    }
   ],
   "source": [
    "# Print out top of investigation file (first 9 lines)\n",
    "with open('out/BII-I-1/i_investigation.txt') as myfile:\n",
    "    head = [next(myfile) for x in range(0, 8)]\n",
    "print(''.join(head))"
   ]
  },
  {
   "cell_type": "markdown",
   "metadata": {},
   "source": [
    "Next we convert an existing ISA tab to ISA JSON. This will allow us to more easily treat ISA content as objects. We use the `isatab2json` converter from the ISA API."
   ]
  },
  {
   "cell_type": "code",
   "execution_count": 48,
   "metadata": {
    "collapsed": false
   },
   "outputs": [
    {
     "name": "stdout",
     "output_type": "stream",
     "text": [
      "Converting ISAtab to ISAjson for  out/BII-I-1/\n",
      "Warning: sample identifier has not been defined before sample-N-0.2-aliquot11\n",
      "Warning: the sample  sample-N-0.2-aliquot11  has not been defined at the study level.\n",
      "... conversion finished.\n"
     ]
    }
   ],
   "source": [
    "from isaagents.convert import isatab2json\n",
    "isatab2json.convert('out/BII-I-1/', 'out/BII-I-1/')"
   ]
  },
  {
   "cell_type": "markdown",
   "metadata": {},
   "source": [
    "## Step 2: Edit ISA JSON\n",
    "\n",
    "In this step we can edit the ISA JSON we produced from the previous step. We can now modify some values. The example simply makes a modification to the `title` of the `Investigation` ISA JSON object. We load the ISA JSON output using the `json` package, make a modification to the loaded dictionary, then dump it back to the file system again."
   ]
  },
  {
   "cell_type": "code",
   "execution_count": 52,
   "metadata": {
    "collapsed": false
   },
   "outputs": [
    {
     "name": "stdout",
     "output_type": "stream",
     "text": [
      "Before edit, title: \"Growth control of the AWESOME eukaryote cell: a systems biology study in yeast\"\n"
     ]
    }
   ],
   "source": [
    "import json\n",
    "isa_json = json.load(open('out/BII-I-1/BII-I-1.json', 'r'))  # Load the new JSON output from last step\n",
    "print(\"Before edit, title: \" + json.dumps(isa_json['title']))"
   ]
  },
  {
   "cell_type": "code",
   "execution_count": 55,
   "metadata": {
    "collapsed": false
   },
   "outputs": [
    {
     "name": "stdout",
     "output_type": "stream",
     "text": [
      "After edit, title: \"Growth control of the AWESOME eukaryote cell: a systems biology study in yeast\"\n"
     ]
    }
   ],
   "source": [
    "isa_json['title'] = \"Growth control of the AWESOME eukaryote cell: a systems biology study in yeast\"\n",
    "print(\"After edit, title: \" + json.dumps(isa_json['title']))\n",
    "json.dump(isa_json, open('out/BII-I-1/BII-I-1.json', 'w'))  # Write the JSON back to the original file"
   ]
  },
  {
   "cell_type": "markdown",
   "metadata": {},
   "source": [
    "## Step 3: `json2isatab` - Convert the edited JSON back to ISA tab\n",
    "\n",
    "Now write back to ISA tab format by using the `json2isatab` converter. We have now effectively loaded, edited, and now saving ISA tab files. Again, we utilise our cloud infrastructure to run a microservice to convert back to ISA tab."
   ]
  },
  {
   "cell_type": "code",
   "execution_count": 56,
   "metadata": {
    "collapsed": false
   },
   "outputs": [
    {
     "name": "stdout",
     "output_type": "stream",
     "text": [
      "ONTOLOGY SOURCE REFERENCE\n",
      "Term Source Name\tOBI\tBTO\tNEWT\tUO\tCHEBI\tPATO\tEFO\n",
      "Term Source File\thttp://bioportal.bioontology.org/ontologies/1123\tArrayExpress Experimental Factor Ontology\t\t\t\t\t\n",
      "Term Source Version\t47893\tv 1.26\tv 1.26\tv 1.26\tv 1.26\tv 1.26\tv 1.26\n",
      "Term Source Description\tOntology for Biomedical Investigations\tBRENDA tissue / enzyme source\tNEWT UniProt Taxonomy Database\tUnit Ontology\tChemical Entities of Biological Interest\tPhenotypic qualities (properties)\tArrayExpress Experimental Factor Ontology\n",
      "INVESTIGATION\n",
      "Investigation Identifier\tBII-I-1\n",
      "Investigation Title\tGrowth control of the AWESOME eukaryote cell: a systems biology study in yeast\n",
      "\n"
     ]
    }
   ],
   "source": [
    "from isaagents.convert import json2isatab\n",
    "json2isatab.convert(open('out/BII-I-1/BII-I-1.json'), 'out/BII-I-1/')\n",
    "# Print out top of converted back investigation file\n",
    "with open('out/BII-I-1/i_investigation.txt') as myfile:  \n",
    "    head = [next(myfile) for x in range(0, 8)]\n",
    "print(''.join(head))"
   ]
  },
  {
   "cell_type": "markdown",
   "metadata": {},
   "source": [
    "If all went as planned, you should have written out some ISA tab files that correspond to the AWESOME edit you made to the ISA JSON in Step 2."
   ]
  },
  {
   "cell_type": "code",
   "execution_count": null,
   "metadata": {
    "collapsed": true
   },
   "outputs": [],
   "source": []
  }
 ],
 "metadata": {
  "kernelspec": {
   "display_name": "Python 3",
   "language": "python",
   "name": "python3"
  },
  "language_info": {
   "codemirror_mode": {
    "name": "ipython",
    "version": 3
   },
   "file_extension": ".py",
   "mimetype": "text/x-python",
   "name": "python",
   "nbconvert_exporter": "python",
   "pygments_lexer": "ipython3",
   "version": "3.4.3"
  }
 },
 "nbformat": 4,
 "nbformat_minor": 0
}
